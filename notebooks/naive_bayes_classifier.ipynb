{
 "cells": [
  {
   "cell_type": "markdown",
   "source": [
    "# Naive Bayes Classifier\n",
    "\n",
    "description of Naive Bayes Classifier is **[HERE](https://wikidocs.net/22892)**"
   ],
   "metadata": {
    "collapsed": false
   }
  },
  {
   "cell_type": "markdown",
   "source": [
    "## Code"
   ],
   "metadata": {
    "collapsed": false
   }
  },
  {
   "cell_type": "code",
   "execution_count": null,
   "outputs": [],
   "source": [
    "import numpy as np\n",
    "\n",
    "\n",
    "class NaiveBayesClassifier(object):\n",
    "    \"\"\"\n",
    "    Naive Bayes Classifier is a simple text classification model based on Bayes Theorem. Bayes Theorem is a one of the method\n",
    "    that calculate \"Conditional Probability\" by below formula.\n",
    "\n",
    "    P(A|B) = P(B|A) * P(A) * 1/P(B)\n",
    "\n",
    "    ... where P(x) is probability of x and P(x|y) is probability of x after y.\n",
    "\n",
    "    Let's say that we want to classify two category: positive review and negative review. Then, probability of positive and\n",
    "    negative review can be calculated like below formula.\n",
    "\n",
    "    P(Positive|Text) = = P(Text|Positive) * P(Text) * 1/P(Positive)\n",
    "    P(Negative|Text) = = P(Text|Negative) * P(Text) * 1/P(Negative)\n",
    "\n",
    "    While modern classifier using Neural Networks consider context and order of the text, Naive Bayes does not consider these\n",
    "    things. they only take accounts of frequency of the word. In other words, this classifier assume that all texts are ind-\n",
    "    ependent for each other words.\n",
    "\n",
    "    In this Section, we will perform binary/multi-label classification with Bayes Classifier.\n",
    "    \"\"\"\n",
    "    def __init__(self):\n",
    "        self.pos = 0\n",
    "        self.neg = 0\n",
    "\n",
    "    def fit(self, array, target):\n",
    "        raise NotImplementedError\n",
    "\n",
    "    def _fit_loop(self):\n",
    "        raise NotImplementedError\n",
    "\n",
    "    def _analyze_text(self, text: np.array):\n",
    "        raise NotImplementedError\n",
    "\n",
    "    def _calculate_word_probability(self, word: np.array):\n",
    "        raise NotImplementedError\n",
    "\n",
    "    def _calculate_review_probability(self, word: np.array):\n",
    "        raise NotImplementedError\n",
    "\n",
    "    def _find_word(self, index: int):\n",
    "        raise NotImplementedError"
   ],
   "metadata": {
    "collapsed": false,
    "pycharm": {
     "is_executing": true
    }
   }
  },
  {
   "cell_type": "markdown",
   "source": [
    "## Execution"
   ],
   "metadata": {
    "collapsed": false
   }
  },
  {
   "cell_type": "code",
   "execution_count": null,
   "outputs": [],
   "source": [
    "from sklearn.feature_extraction.text import CountVectorizer\n",
    "\n",
    "\n"
   ],
   "metadata": {
    "collapsed": false
   }
  }
 ],
 "metadata": {
  "kernelspec": {
   "display_name": "Python 3",
   "language": "python",
   "name": "python3"
  },
  "language_info": {
   "codemirror_mode": {
    "name": "ipython",
    "version": 2
   },
   "file_extension": ".py",
   "mimetype": "text/x-python",
   "name": "python",
   "nbconvert_exporter": "python",
   "pygments_lexer": "ipython2",
   "version": "2.7.6"
  }
 },
 "nbformat": 4,
 "nbformat_minor": 0
}
